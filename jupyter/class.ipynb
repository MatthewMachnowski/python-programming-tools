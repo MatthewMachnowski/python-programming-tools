{
 "cells": [
  {
   "cell_type": "markdown",
   "metadata": {},
   "source": [
    "# Introduction"
   ]
  },
  {
   "cell_type": "markdown",
   "metadata": {},
   "source": [
    "Jupyter notebook is Python console which is accesible from web browser. \n",
    "Instead run of single command it run bunch of command in unit called *cell*.\n",
    "\n",
    "## Instalation \n",
    "\n",
    "To install jupyter notebook from commandline use `pip install jupyter`. If you use Anaconda distribution it is already installed. \n",
    "\n",
    "## Running \n",
    "Execute `jupyter notebook` in shell in root directory of your project. \n",
    "For Anaconda instalation there is possibility to run it from *Anaconda Navigator*\n",
    "![Anaconda Navigator launch jupyter](anaconda_notebook.png)\n",
    "\n",
    "But this way does not provide additional information needed to connect from another machine\n",
    "\n",
    "```bash\n",
    "[I 11:52:25.570 NotebookApp] JupyterLab extension loaded from /home/gb305058/.pyenv/versions/3.8.3/envs/python-tools/lib/python3.8/site-packages/jupyterlab\n",
    "[I 11:52:25.570 NotebookApp] JupyterLab application directory is /home/gb305058/.pyenv/versions/3.8.3/envs/python-tools/share/jupyter/lab\n",
    "[I 11:52:25.572 NotebookApp] Serving notebooks from local directory: /home/gb305058/Projekty/python-tools/jupyter\n",
    "[I 11:52:25.572 NotebookApp] The Jupyter Notebook is running at:\n",
    "[I 11:52:25.572 NotebookApp] http://localhost:8888/?token=f6bffb0fb374e512dab992eabe0f29a8e1c9290faeeba2f3\n",
    "[I 11:52:25.572 NotebookApp]  or http://127.0.0.1:8888/?token=f6bffb0fb374e512dab992eabe0f29a8e1c9290faeeba2f3\n",
    "[I 11:52:25.572 NotebookApp] Use Control-C to stop this server and shut down all kernels (twice to skip confirmation).\n",
    "[C 11:52:25.617 NotebookApp] \n",
    "    \n",
    "    To access the notebook, open this file in a browser:\n",
    "        file:///home/gb305058/.local/share/jupyter/runtime/nbserver-517980-open.html\n",
    "    Or copy and paste one of these URLs:\n",
    "        http://localhost:8888/?token=f6bffb0fb374e512dab992eabe0f29a8e1c9290faeeba2f3\n",
    "     or http://127.0.0.1:8888/?token=f6bffb0fb374e512dab992eabe0f29a8e1c9290faeeba2f3\n",
    "\n",
    "```\n",
    "\n",
    "Where `token=f6bffb0fb374e512dab992eabe0f29a8e1c9290faeeba2f3` is value needed to join from another computer.\n",
    "\n",
    "\n"
   ]
  },
  {
   "cell_type": "code",
   "execution_count": null,
   "metadata": {},
   "outputs": [],
   "source": []
  },
  {
   "cell_type": "markdown",
   "metadata": {},
   "source": [
    "\n",
    "# Exercises"
   ]
  },
  {
   "cell_type": "markdown",
   "metadata": {},
   "source": [
    "## Exercise 1\n",
    "Load `autoreload` extesion using `%load_ext` and enable  it (help could be accesed using `%autoreload?`) it. Import `ultimate_question_answer` function from `sample_module`.\n",
    "call it once. Notice that it prove wrong answer. Corect it in file and call it again \n",
    "in separate cell"
   ]
  },
  {
   "cell_type": "code",
   "execution_count": null,
   "metadata": {},
   "outputs": [],
   "source": []
  },
  {
   "cell_type": "markdown",
   "metadata": {},
   "source": [
    "First call of `ultimate_question_answer`:"
   ]
  },
  {
   "cell_type": "code",
   "execution_count": null,
   "metadata": {},
   "outputs": [],
   "source": []
  },
  {
   "cell_type": "markdown",
   "metadata": {},
   "source": [
    "Second call of `ultimate_question_answer`:"
   ]
  },
  {
   "cell_type": "code",
   "execution_count": null,
   "metadata": {},
   "outputs": [],
   "source": []
  },
  {
   "cell_type": "markdown",
   "metadata": {},
   "source": [
    "## Exercise 2"
   ]
  },
  {
   "cell_type": "markdown",
   "metadata": {},
   "source": [
    "Using code from presentations to draw simpe plot test different behaviour when using `%matplotlib inlie` `%matplotlib qt`, `%matplotlib tk` and `%matplotlib notebook` (switch between `qt`, `tk` and `notebook` may need restart of notebook).\n",
    "\n",
    "```python\n",
    "import numpy as np\n",
    "from matplotlib import pyplot as plt\n",
    "\n",
    "points = np.linspace(start=-7, stop=7, num=100)\n",
    "with plt.style.context(\"ggplot\"):\n",
    "    plt.figure(figsize=(6,2.5), dpi=150)\n",
    "    plt.plot(points, np.sin(points), label=\"sin(x)\", linestyle=\"-.\")\n",
    "    plt.plot(points, np.cos(points), label=\"cos(x)\", linestyle=':')\n",
    "    plt.legend();\n",
    "```"
   ]
  },
  {
   "cell_type": "code",
   "execution_count": null,
   "metadata": {},
   "outputs": [],
   "source": []
  },
  {
   "cell_type": "markdown",
   "metadata": {},
   "source": [
    "## Exercise 3 \n",
    "\n",
    "Run notebook on different machine and connect to it from browser. Usefull may be ``--ip`` optional parameter of notebook. "
   ]
  },
  {
   "cell_type": "code",
   "execution_count": null,
   "metadata": {},
   "outputs": [],
   "source": []
  }
 ],
 "metadata": {
  "kernelspec": {
   "display_name": "Python 3",
   "language": "python",
   "name": "python3"
  },
  "language_info": {
   "codemirror_mode": {
    "name": "ipython",
    "version": 3
   },
   "file_extension": ".py",
   "mimetype": "text/x-python",
   "name": "python",
   "nbconvert_exporter": "python",
   "pygments_lexer": "ipython3",
   "version": "3.8.3"
  }
 },
 "nbformat": 4,
 "nbformat_minor": 4
}
