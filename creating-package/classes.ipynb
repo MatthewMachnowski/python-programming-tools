{
 "cells": [
  {
   "cell_type": "code",
   "execution_count": null,
   "metadata": {},
   "outputs": [],
   "source": [
    "%load_ext autoreload\n",
    "%autoreload 2"
   ]
  },
  {
   "cell_type": "markdown",
   "metadata": {},
   "source": [
    "# Instalation\n",
    "The `pip install` command has an `-e/--editable` flag. A package installed in editable mode does not need reinstallation after package code has been edited.\n",
    "\n",
    "*Ater installation of a package in editable mode there is a need for restart of jupyter kernel.* "
   ]
  },
  {
   "cell_type": "markdown",
   "metadata": {
    "pycharm": {
     "name": "#%%\n"
    }
   },
   "source": [
    "## Exercise 1\n",
    "\n",
    "Install `simple_package1` in editable mode; install `simple_package2` in normal mode.\n",
    "\n",
    "Execute the following cells:"
   ]
  },
  {
   "cell_type": "code",
   "execution_count": null,
   "metadata": {},
   "outputs": [],
   "source": [
    "import simple_package1\n",
    "simple_package1.function()\n",
    "simple_package1.__file__"
   ]
  },
  {
   "cell_type": "code",
   "execution_count": null,
   "metadata": {},
   "outputs": [],
   "source": [
    "import simple_package2\n",
    "simple_package2.function()\n",
    "simple_package2.__file__"
   ]
  },
  {
   "cell_type": "markdown",
   "metadata": {},
   "source": [
    "Edit both `simple_package1` and `simple_package2` and execute the following cells:"
   ]
  },
  {
   "cell_type": "code",
   "execution_count": null,
   "metadata": {},
   "outputs": [],
   "source": [
    "simple_package1.function()\n",
    "simple_package2.function()"
   ]
  },
  {
   "cell_type": "code",
   "execution_count": null,
   "metadata": {},
   "outputs": [],
   "source": [
    "# May not work on windows\n",
    "!pip list |grep simple"
   ]
  },
  {
   "cell_type": "markdown",
   "metadata": {},
   "source": [
    "# Package Metadata\n",
    "\n",
    "Metadata is used to describe ones package.\n",
    "\n",
    "In particular, it is useful when sharing ones package with others (or as notes for oneself). \n",
    "\n",
    "A basic list of metadata categories is avaliable here: https://docs.python.org/3/distutils/setupscript.html#additional-meta-data\n",
    "\n",
    "A list of classifiers acceptable on pypi.org are here: https://pypi.org/classifiers/\n",
    "\n",
    "See: https://pypi.org/project/setuptools/ for information on presenting metadata on pypi.org.\n",
    "\n",
    "Package metadata can also be accessed in code:"
   ]
  },
  {
   "cell_type": "code",
   "execution_count": null,
   "metadata": {},
   "outputs": [],
   "source": [
    "# You need to install the content of `simple-package-3`\n",
    "\n",
    "from importlib import metadata\n",
    "\n",
    "# for python bellow 3.8 \n",
    "# !pip install importlib_metadata\n",
    "# import importlib_metadata as metadata \n",
    "\n",
    "metadata.metadata('simple-package-3')[\"Author\"]"
   ]
  },
  {
   "cell_type": "markdown",
   "metadata": {},
   "source": [
    "## Exercise 2\n",
    "Modify `setup.py` or `setup.cfg` to include the file `Readme.rst` as `long_description` metadata. It should read the contents of the `Readme.rst` file. Reinstall it and check that the content of `long_description` is valid."
   ]
  },
  {
   "cell_type": "code",
   "execution_count": null,
   "metadata": {},
   "outputs": [],
   "source": []
  },
  {
   "cell_type": "markdown",
   "metadata": {},
   "source": [
    "## Exercise 3 \n",
    "Check if updated package metadata can be read using `importlib.metadata` without reinstalling the package. "
   ]
  },
  {
   "cell_type": "code",
   "execution_count": null,
   "metadata": {},
   "outputs": [],
   "source": []
  },
  {
   "cell_type": "markdown",
   "metadata": {},
   "source": [
    "# Code in a subdirectory\n",
    "\n",
    "Along with the growth of ones project (and to avoid path polution) it is a good practice to move package code into a separate directory, for example `src`. This is in particular useful for packages with binary extensions. "
   ]
  },
  {
   "cell_type": "markdown",
   "metadata": {},
   "source": [
    "## Exercise 4 \n",
    "\n",
    "Basd on documentation from https://setuptools.readthedocs.io/en/latest/userguide/package_discovery.html?highlight=find_packages%20#using-find-or-find-packages change the structure of a copy of `simple-package-3`: move the `simple_package3` directory to a `src` subdirectory"
   ]
  },
  {
   "cell_type": "code",
   "execution_count": null,
   "metadata": {},
   "outputs": [],
   "source": []
  },
  {
   "cell_type": "markdown",
   "metadata": {},
   "source": [
    "# Packed source files\n",
    "\n",
    "When there is need to share code without providing access to the repository, it is nice to share it in packed format. Currently Python supports two types of packed format:\n",
    "\n",
    "1. _sdist_\n",
    "  * Packs the whole source file and requires running `setup.py` during installation).\n",
    "  * Documentation: https://docs.python.org/3/distutils/sourcedist.html.\n",
    "  * To create a file use the following command: `python setup.py sdist`.\n",
    "\n",
    "2. _wheel_\n",
    "  * Unpack and use in file format.\n",
    "  * Documentation: https://pypi.org/project/wheel/ https://realpython.com/python-wheels/.\n",
    "  * Usage: `pip wheel . --no-deps` or `python setup.py bdist_wheel`. (Requires the `wheel` package)."
   ]
  },
  {
   "cell_type": "markdown",
   "metadata": {},
   "source": [
    "# Package data \n",
    "By default python packaging tools collect only `*.py` files. Sometimes however our code needs to load data from some other files. \n",
    "\n",
    "Documentation: https://packaging.python.org/guides/using-manifest-in/, https://setuptools.readthedocs.io/en/latest/userguide/datafiles.html?highlight=package%20data%20files\n",
    "\n",
    "Packed source files can be used to check if everything is included."
   ]
  },
  {
   "cell_type": "markdown",
   "metadata": {},
   "source": [
    "## Exercise 5\n",
    "\n",
    "The `package4` package directory works if is installed in editable mode but not if it does not work when installed normally. Fix this by including missing data files. "
   ]
  },
  {
   "cell_type": "code",
   "execution_count": null,
   "metadata": {},
   "outputs": [],
   "source": [
    "!pip install -e ./package4"
   ]
  },
  {
   "cell_type": "code",
   "execution_count": null,
   "metadata": {},
   "outputs": [],
   "source": [
    "import simple_package4\n",
    "simple_package4.function()"
   ]
  },
  {
   "cell_type": "markdown",
   "metadata": {},
   "source": [
    "# Install-time dependencies\n",
    "\n",
    "Sometimes `setup.py` needs libraries other than the standard library. As `setup.py` is a python executable then it cannot provide such information. To solve this python developers introduced `pyproject.toml`.\n",
    "Usage is described in [PEP517](https://www.python.org/dev/peps/pep-0517/)."
   ]
  },
  {
   "cell_type": "markdown",
   "metadata": {},
   "source": [
    "## Exercise 6*\n",
    "Fix `pyproject.toml` file for `package5` be installable with `pip`.  "
   ]
  },
  {
   "cell_type": "code",
   "execution_count": null,
   "metadata": {},
   "outputs": [],
   "source": []
  },
  {
   "cell_type": "markdown",
   "metadata": {},
   "source": [
    "# Console script \n",
    "Python package allow to define scripts which will be avaliable as program from command line. This allows for simplify export part of package utility. An example of this usage by core python package is `pip` which is implemented in `pip` package and could be called `python -m pip` or `pip`. \n",
    "\n",
    "For documentation see here: https://python-packaging.readthedocs.io/en/latest/command-line-scripts.html \n",
    "\n",
    "Simple example is implemented in `package6_moo`"
   ]
  },
  {
   "cell_type": "code",
   "execution_count": null,
   "metadata": {},
   "outputs": [],
   "source": [
    "!pip install ./package6_moo"
   ]
  },
  {
   "cell_type": "code",
   "execution_count": null,
   "metadata": {},
   "outputs": [],
   "source": [
    "!moo "
   ]
  },
  {
   "cell_type": "markdown",
   "source": [
    "# Package dependencies\n",
    "\n",
    "Often packages requires some packages that are not installed\n",
    "\n",
    "https://setuptools.pypa.io/en/latest/userguide/dependency_management.html#declaring-required-dependency\n",
    "\n",
    "## Exercise 7\n",
    "\n",
    "`package7` directory contains `simple_package7` which implements function `to_xml` that requires `pandas` in version at least `1.3.0` and `lxml`\n",
    "Add missing entry in `setup.cfg` file to declare dependencies."
   ],
   "metadata": {
    "collapsed": false,
    "pycharm": {
     "name": "#%% md\n"
    }
   }
  }
 ],
 "metadata": {
  "kernelspec": {
   "display_name": "Python 3",
   "language": "python",
   "name": "python3"
  },
  "language_info": {
   "codemirror_mode": {
    "name": "ipython",
    "version": 3
   },
   "file_extension": ".py",
   "mimetype": "text/x-python",
   "name": "python",
   "nbconvert_exporter": "python",
   "pygments_lexer": "ipython3",
   "version": "3.8.3"
  }
 },
 "nbformat": 4,
 "nbformat_minor": 1
}