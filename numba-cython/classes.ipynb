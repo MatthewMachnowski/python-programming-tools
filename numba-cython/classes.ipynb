{
 "cells": [
  {
   "cell_type": "code",
   "execution_count": null,
   "metadata": {},
   "outputs": [],
   "source": [
    "import numpy as np "
   ]
  },
  {
   "cell_type": "code",
   "execution_count": null,
   "metadata": {},
   "outputs": [],
   "source": [
    "data = np.random.random(size=2000)"
   ]
  },
  {
   "cell_type": "code",
   "execution_count": null,
   "metadata": {},
   "outputs": [],
   "source": [
    "%timeit np.sum(data)"
   ]
  },
  {
   "cell_type": "markdown",
   "metadata": {},
   "source": [
    "# Numba \n",
    "Numba is python library which provide Just In Time compiler for compile part of python code into machine code.\n",
    "\n",
    "Project webpage: https://numba.pydata.org/\n",
    "\n",
    "Project documentation: https://numba.readthedocs.io/en/stable/user/jit.html"
   ]
  },
  {
   "cell_type": "code",
   "execution_count": null,
   "metadata": {},
   "outputs": [],
   "source": [
    "# from pip.__main__ import _main as main\n",
    "# main([\"install\", \"numba\"])"
   ]
  },
  {
   "cell_type": "code",
   "execution_count": null,
   "metadata": {},
   "outputs": [],
   "source": [
    "from numba import jit "
   ]
  },
  {
   "cell_type": "code",
   "execution_count": null,
   "metadata": {},
   "outputs": [],
   "source": [
    "def custom_sum(arr):\n",
    "    res = 0\n",
    "    for el in arr:\n",
    "        res += el \n",
    "    return res\n",
    "\n",
    "@jit\n",
    "def custom_sum2(arr):\n",
    "    res = 0\n",
    "    for el in arr:\n",
    "        res += el \n",
    "    return res"
   ]
  },
  {
   "cell_type": "code",
   "execution_count": null,
   "metadata": {},
   "outputs": [],
   "source": [
    "%timeit custom_sum(data)"
   ]
  },
  {
   "cell_type": "code",
   "execution_count": null,
   "metadata": {},
   "outputs": [],
   "source": [
    "%timeit custom_sum2(data)"
   ]
  },
  {
   "cell_type": "markdown",
   "metadata": {},
   "source": [
    "## Exercise 1 \n",
    "Write `cum_positive_sum` function which sum elements of arrays $a$ using equations $S_i = \\left\\{\\begin{matrix} S_{i-1} + a_i & S_{i-1} + a_i > 0 \\\\ S_{i-1} & otherwise \\end{matrix}\\right.$\n",
    "\n",
    "Compare its speed with and withut `jit`\n"
   ]
  },
  {
   "cell_type": "code",
   "execution_count": null,
   "metadata": {},
   "outputs": [],
   "source": [
    "def cum_positive_sum(arr):\n",
    "    ...\n",
    "\n"
   ]
  },
  {
   "cell_type": "code",
   "execution_count": null,
   "metadata": {},
   "outputs": [],
   "source": [
    "%timeit cum_positive_sum(data)"
   ]
  },
  {
   "cell_type": "code",
   "execution_count": null,
   "metadata": {},
   "outputs": [],
   "source": [
    "%timeit cum_positive_sum_jit(data)"
   ]
  },
  {
   "cell_type": "markdown",
   "metadata": {},
   "source": [
    "## Exercise 2\n",
    "Compare call of `perform_calc(vectors, norms)` with and without `@jit` decorator. Check if `nopython` or `parallel` could speedup calculation. \n",
    "\n"
   ]
  },
  {
   "cell_type": "code",
   "execution_count": null,
   "metadata": {},
   "outputs": [],
   "source": [
    "vectors = np.random.random(size=(1000, 20))\n",
    "norms = np.random.randint(1, 10, size=1000)"
   ]
  },
  {
   "cell_type": "code",
   "execution_count": null,
   "metadata": {},
   "outputs": [],
   "source": [
    "def calc_norm(vec, norm_num):\n",
    "    if norm_num == 1:\n",
    "        return np.max(np.abs(vec))\n",
    "    return np.sum(vec**norm_num)*(1/norm_num)\n",
    "\n",
    "def perform_calc(vectors, norm_nums):\n",
    "    res = np.zeros(norm_nums.shape)\n",
    "    for i in range(norm_nums.size):\n",
    "        res[i] = calc_norm(vectors[i], norm_nums[i])\n",
    "        "
   ]
  },
  {
   "cell_type": "code",
   "execution_count": null,
   "metadata": {},
   "outputs": [],
   "source": []
  },
  {
   "cell_type": "code",
   "execution_count": null,
   "metadata": {},
   "outputs": [],
   "source": []
  },
  {
   "cell_type": "code",
   "execution_count": null,
   "metadata": {},
   "outputs": [],
   "source": []
  },
  {
   "cell_type": "code",
   "execution_count": null,
   "metadata": {},
   "outputs": [],
   "source": []
  },
  {
   "cell_type": "code",
   "execution_count": null,
   "metadata": {},
   "outputs": [],
   "source": []
  },
  {
   "cell_type": "code",
   "execution_count": null,
   "metadata": {},
   "outputs": [],
   "source": []
  },
  {
   "cell_type": "markdown",
   "metadata": {},
   "source": [
    "# Cython \n",
    "`Cython` is programing language that make writing C/C++ extension for python simple. It do many boring things for us, but wirting `cython` code needs more effort from user. \n",
    "To archive full speedup user needs to define type of all variables.\n",
    "\n",
    "https://cython.readthedocs.io/en/latest/src/quickstart/overview.html\n",
    "https://cython.readthedocs.io/en/latest/src/quickstart/build.html#using-the-jupyter-notebook\n",
    "\n",
    "`Cython` introduce `cimport` importing statement for import `cython` related things. Numpy types for `cython` has added `_t` suffix. For example `float64_t`.\n",
    "`cdef` is for define C only available things.\n",
    "For numpy arrays `cython` allow defining dtype and number of dimension of `np.ndarray`: `np.ndarray[float64_t, ndim=2]`\n",
    "\n",
    "`Cython` allow running in annotate mode to show which lines interact with python interpreter (Which most often cause function slowdown).\n",
    "\n",
    "To allow accepting multiple types of data `cython` offer Fused Types, which is similar to C++ templates: https://cython.readthedocs.io/en/latest/src/userguide/fusedtypes.html?highlight=ctypedef%20fused\n",
    "\n",
    "For working `cython` needs availability of compiler on a machine. For Windows machine it could be installed with Visual Studio. It could be downloaded from https://visualstudio.microsoft.com/pl/vs/community/.\n",
    "On MacOS and Linux compilers should be available by default."
   ]
  },
  {
   "cell_type": "code",
   "execution_count": null,
   "metadata": {},
   "outputs": [],
   "source": [
    "# from pip.__main__ import _main as main\n",
    "# main([\"install\", \"cython\"])\n",
    "\n",
    "%load_ext Cython"
   ]
  },
  {
   "cell_type": "code",
   "execution_count": null,
   "metadata": {},
   "outputs": [],
   "source": [
    "\n"
   ]
  },
  {
   "cell_type": "markdown",
   "metadata": {},
   "source": [
    "## Exercise 3\n",
    "Compare speed of `calc_diameter`, `calc_diameter2` and `calc_diameter3`. See that `calc_diameter3` does not accept `float32`. using `ctypedef fused` fix it to accept `float32` numpy arrays.  "
   ]
  },
  {
   "cell_type": "code",
   "execution_count": null,
   "metadata": {},
   "outputs": [],
   "source": [
    "vectors1 = np.random.random(size=(4000, 20))"
   ]
  },
  {
   "cell_type": "code",
   "execution_count": null,
   "metadata": {},
   "outputs": [],
   "source": [
    "def calc_diameter(vec1):\n",
    "    res = 0\n",
    "    for i in range(vec1.shape[0]-1):\n",
    "        r = np.sum((vec1[i+1:] - vec1[i])**2, axis=1)\n",
    "        res = max(res, np.max(r))\n",
    "    return res\n",
    "\n",
    "@jit\n",
    "def calc_diameter2(vec1):\n",
    "    res = 0\n",
    "    for i in range(vec1.shape[0]-1):\n",
    "        r = np.sum((vec1[i+1:] - vec1[i])**2, axis=1)\n",
    "        res = max(res, np.max(r))\n",
    "    return res"
   ]
  },
  {
   "cell_type": "code",
   "execution_count": null,
   "metadata": {},
   "outputs": [],
   "source": [
    "%%cython --annotate \n",
    "\n",
    "# cython: boundscheck=False, wraparound=False, nonecheck=False, cdivision=True\n",
    "# cython: language_level=3\n",
    "\n",
    "from numpy cimport float64_t, int16_t\n",
    "cimport numpy as np\n",
    "\n",
    "def calc_diameter3(np.ndarray[float64_t, ndim=2] vec):\n",
    "    cdef int16_t size, dim\n",
    "    cdef int16_t i, j, k\n",
    "    cdef float64_t r, res = 0\n",
    "    size = vec.shape[0]\n",
    "    dim = vec.shape[1]\n",
    "    for i in range(size):\n",
    "        for j in range(i, size):\n",
    "            r = 0\n",
    "            for k in range(dim):\n",
    "                r += (vec[i, k] - vec[j, k])**2\n",
    "            res = max(res, r)\n",
    "    return res\n",
    "\n"
   ]
  },
  {
   "cell_type": "code",
   "execution_count": null,
   "metadata": {},
   "outputs": [],
   "source": []
  },
  {
   "cell_type": "code",
   "execution_count": null,
   "metadata": {},
   "outputs": [],
   "source": []
  },
  {
   "cell_type": "code",
   "execution_count": null,
   "metadata": {},
   "outputs": [],
   "source": []
  },
  {
   "cell_type": "markdown",
   "metadata": {},
   "source": [
    "## Exercise 4*\n",
    "Base on [documentation](https://cython.readthedocs.io/en/latest/src/quickstart/build.html#building-a-cython-module-using-setuptools) create python package which will allow import `calc_diameter3` using `from package_name import calc_diameter3` "
   ]
  },
  {
   "cell_type": "code",
   "execution_count": null,
   "metadata": {},
   "outputs": [],
   "source": []
  },
  {
   "cell_type": "code",
   "execution_count": null,
   "metadata": {},
   "outputs": [],
   "source": []
  },
  {
   "cell_type": "code",
   "execution_count": null,
   "metadata": {},
   "outputs": [],
   "source": []
  }
 ],
 "metadata": {
  "kernelspec": {
   "display_name": "Python 3",
   "language": "python",
   "name": "python3"
  },
  "language_info": {
   "codemirror_mode": {
    "name": "ipython",
    "version": 3
   },
   "file_extension": ".py",
   "mimetype": "text/x-python",
   "name": "python",
   "nbconvert_exporter": "python",
   "pygments_lexer": "ipython3",
   "version": "3.8.3"
  }
 },
 "nbformat": 4,
 "nbformat_minor": 4
}