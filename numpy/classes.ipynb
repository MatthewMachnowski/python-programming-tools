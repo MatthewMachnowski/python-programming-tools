{
 "cells": [
  {
   "cell_type": "markdown",
   "metadata": {
    "collapsed": true
   },
   "source": [
    "This notebook contain exercises for classes copied form readme."
   ]
  },
  {
   "cell_type": "code",
   "execution_count": 21,
   "metadata": {},
   "outputs": [],
   "source": [
    "import numpy as np"
   ]
  },
  {
   "cell_type": "markdown",
   "metadata": {},
   "source": [
    "## Exercise 1 \n",
    "\n",
    "Fix the code, so that all ``assert`` pass."
   ]
  },
  {
   "cell_type": "code",
   "execution_count": 22,
   "metadata": {},
   "outputs": [],
   "source": [
    "arr1 = np.full(10, 100, dtype=np.uint8)\n",
    "arr2 = np.full(10, 156, dtype=np.uint8)\n",
    "assert len(arr1) == 10\n",
    "assert len(arr2) == 10\n",
    "assert np.all(arr1 == 100)\n",
    "assert np.all(arr2 == 156)\n",
    "assert np.all(arr1 + arr2 == 0)"
   ]
  },
  {
   "cell_type": "markdown",
   "metadata": {},
   "source": [
    "## Exercise 2\n",
    "\n",
    "Load data from ``data/sample.csv``; calculate mean, median and std for each column separately.\n",
    "Solve this using numpy and without numpy (or pandas etc.)\n",
    "\n",
    "Measure the time of it execution (using ``%time`` magic or ``time()`` function from ``time`` module) for each case."
   ]
  },
  {
   "cell_type": "code",
   "execution_count": 23,
   "metadata": {},
   "outputs": [],
   "source": [
    "import csv"
   ]
  },
  {
   "cell_type": "code",
   "execution_count": 24,
   "metadata": {},
   "outputs": [
    {
     "name": "stdout",
     "output_type": "stream",
     "text": [
      "CPU times: user 3.03 ms, sys: 1.87 ms, total: 4.9 ms\n",
      "Wall time: 5.5 ms\n"
     ]
    }
   ],
   "source": [
    "%%time\n",
    "data = np.loadtxt(\"data/sample.csv\")\n",
    "\n",
    "mean = data.mean(axis=0)\n",
    "median = np.median(data, axis=0)\n",
    "std = data.std(axis=0)"
   ]
  },
  {
   "cell_type": "markdown",
   "metadata": {},
   "source": [
    "## Exercise 3\n",
    "\n",
    "Load data from ``data/ex3_data.npy`` and filter out rows with ``nan`` values.\n",
    "Report how many rows are dropped during filtration, globally and how many ``nan`` are in each column."
   ]
  },
  {
   "cell_type": "code",
   "execution_count": 25,
   "metadata": {},
   "outputs": [
    {
     "name": "stdout",
     "output_type": "stream",
     "text": [
      "Number of dropped rows:  10\n",
      "Number of NA values per column:  3 3 4 1\n"
     ]
    }
   ],
   "source": [
    "data = np.load(\"data/ex3_data.npy\")\n",
    "\n",
    "print(\"Number of dropped rows: \", len(data[np.isnan(data).any(axis=1)]))\n",
    "print(\"Number of NA values per column: \", np.count_nonzero(np.isnan(data[:,0])), \n",
    "                                          np.count_nonzero(np.isnan(data[:,1])), \n",
    "                                          np.count_nonzero(np.isnan(data[:,2])), \n",
    "                                          np.count_nonzero(np.isnan(data[:,3])))\n",
    "\n",
    "data_filtered = data[~np.isnan(data).any(axis=1)]"
   ]
  },
  {
   "cell_type": "markdown",
   "metadata": {},
   "source": [
    "## Exercise 4\n",
    "\n",
    "Load data from ``data/iris.csv`` using ``loadtxt`` from ``numpy``. \n",
    "Skip header and name columns.\n",
    "For each column calculate: `mean`, `median` and `std` using `axis` parameter."
   ]
  },
  {
   "cell_type": "code",
   "execution_count": 26,
   "metadata": {},
   "outputs": [
    {
     "name": "stdout",
     "output_type": "stream",
     "text": [
      "[5.84333333 3.05733333 3.758      1.19933333]\n",
      "[5.8  3.   4.35 1.3 ]\n",
      "[0.82530129 0.43441097 1.75940407 0.75969263]\n"
     ]
    }
   ],
   "source": [
    "data = np.loadtxt(\"data/iris.csv\", skiprows=1, usecols= (0,1,2,3), delimiter= ',')\n",
    "print(np.mean(data, axis=0))\n",
    "print(np.median(data, axis=0))\n",
    "print(np.std(data, axis=0))"
   ]
  },
  {
   "cell_type": "markdown",
   "metadata": {},
   "source": [
    "## Exercise 5\n",
    "\n",
    "Load data from ``data/sample_treated.npz``. \n",
    "Assume that each row of the ``outputs`` array contains information about the size of some structure traced in time.\n",
    "We would like to know which object grows doubles its size during observation.\n"
   ]
  },
  {
   "cell_type": "code",
   "execution_count": 27,
   "metadata": {},
   "outputs": [],
   "source": [
    "data = np.load(\"data/sample_treated.npz\")"
   ]
  }
 ],
 "metadata": {
  "kernelspec": {
   "display_name": "Python 3 (ipykernel)",
   "language": "python",
   "name": "python3"
  },
  "language_info": {
   "codemirror_mode": {
    "name": "ipython",
    "version": 3
   },
   "file_extension": ".py",
   "mimetype": "text/x-python",
   "name": "python",
   "nbconvert_exporter": "python",
   "pygments_lexer": "ipython3",
   "version": "3.10.0"
  }
 },
 "nbformat": 4,
 "nbformat_minor": 1
}
